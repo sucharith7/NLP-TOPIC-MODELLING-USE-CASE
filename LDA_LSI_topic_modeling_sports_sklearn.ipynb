{
 "cells": [
  {
   "cell_type": "markdown",
   "metadata": {},
   "source": [
    "###  Topic Modeling "
   ]
  },
  {
   "cell_type": "code",
   "execution_count": 19,
   "metadata": {},
   "outputs": [],
   "source": [
    "#from gensim import corpora, models, similarities\n",
    "import pandas as pd\n",
    "import numpy as np\n"
   ]
  },
  {
   "cell_type": "code",
   "execution_count": 20,
   "metadata": {},
   "outputs": [],
   "source": [
    "documents_df = pd.read_csv('sample_news1.csv',names=['text'],encoding=\"Windows-1252\" )"
   ]
  },
  {
   "cell_type": "code",
   "execution_count": 21,
   "metadata": {},
   "outputs": [],
   "source": [
    "pd.set_option(\"display.max_colwidth\",200)"
   ]
  },
  {
   "cell_type": "code",
   "execution_count": 23,
   "metadata": {},
   "outputs": [
    {
     "data": {
      "text/plain": [
       "(14, 1)"
      ]
     },
     "execution_count": 23,
     "metadata": {},
     "output_type": "execute_result"
    }
   ],
   "source": [
    "documents_df.shape"
   ]
  },
  {
   "cell_type": "code",
   "execution_count": 24,
   "metadata": {},
   "outputs": [],
   "source": [
    "documents = documents_df['text'].tolist()"
   ]
  },
  {
   "cell_type": "code",
   "execution_count": 25,
   "metadata": {},
   "outputs": [
    {
     "data": {
      "text/plain": [
       "['Sport and athletics are provided by a number of clubs, notably the Touring Club Italiano, founded in 1894.',\n",
       " \"Volleyball is the sport of choice at Flannagan's and there are four volleyball courts with nightly games\",\n",
       " 'PH volleyball sport chief confident of national team’s medal chances in 2019 SEA Games']"
      ]
     },
     "execution_count": 25,
     "metadata": {},
     "output_type": "execute_result"
    }
   ],
   "source": [
    "documents[0:3]"
   ]
  },
  {
   "cell_type": "code",
   "execution_count": 26,
   "metadata": {},
   "outputs": [
    {
     "data": {
      "text/plain": [
       "['i',\n",
       " 'me',\n",
       " 'my',\n",
       " 'myself',\n",
       " 'we',\n",
       " 'our',\n",
       " 'ours',\n",
       " 'ourselves',\n",
       " 'you',\n",
       " \"you're\",\n",
       " \"you've\",\n",
       " \"you'll\",\n",
       " \"you'd\",\n",
       " 'your',\n",
       " 'yours',\n",
       " 'yourself',\n",
       " 'yourselves',\n",
       " 'he',\n",
       " 'him',\n",
       " 'his',\n",
       " 'himself',\n",
       " 'she',\n",
       " \"she's\",\n",
       " 'her',\n",
       " 'hers',\n",
       " 'herself',\n",
       " 'it',\n",
       " \"it's\",\n",
       " 'its',\n",
       " 'itself',\n",
       " 'they',\n",
       " 'them',\n",
       " 'their',\n",
       " 'theirs',\n",
       " 'themselves',\n",
       " 'what',\n",
       " 'which',\n",
       " 'who',\n",
       " 'whom',\n",
       " 'this',\n",
       " 'that',\n",
       " \"that'll\",\n",
       " 'these',\n",
       " 'those',\n",
       " 'am',\n",
       " 'is',\n",
       " 'are',\n",
       " 'was',\n",
       " 'were',\n",
       " 'be',\n",
       " 'been',\n",
       " 'being',\n",
       " 'have',\n",
       " 'has',\n",
       " 'had',\n",
       " 'having',\n",
       " 'do',\n",
       " 'does',\n",
       " 'did',\n",
       " 'doing',\n",
       " 'a',\n",
       " 'an',\n",
       " 'the',\n",
       " 'and',\n",
       " 'but',\n",
       " 'if',\n",
       " 'or',\n",
       " 'because',\n",
       " 'as',\n",
       " 'until',\n",
       " 'while',\n",
       " 'of',\n",
       " 'at',\n",
       " 'by',\n",
       " 'for',\n",
       " 'with',\n",
       " 'about',\n",
       " 'against',\n",
       " 'between',\n",
       " 'into',\n",
       " 'through',\n",
       " 'during',\n",
       " 'before',\n",
       " 'after',\n",
       " 'above',\n",
       " 'below',\n",
       " 'to',\n",
       " 'from',\n",
       " 'up',\n",
       " 'down',\n",
       " 'in',\n",
       " 'out',\n",
       " 'on',\n",
       " 'off',\n",
       " 'over',\n",
       " 'under',\n",
       " 'again',\n",
       " 'further',\n",
       " 'then',\n",
       " 'once',\n",
       " 'here',\n",
       " 'there',\n",
       " 'when',\n",
       " 'where',\n",
       " 'why',\n",
       " 'how',\n",
       " 'all',\n",
       " 'any',\n",
       " 'both',\n",
       " 'each',\n",
       " 'few',\n",
       " 'more',\n",
       " 'most',\n",
       " 'other',\n",
       " 'some',\n",
       " 'such',\n",
       " 'no',\n",
       " 'nor',\n",
       " 'not',\n",
       " 'only',\n",
       " 'own',\n",
       " 'same',\n",
       " 'so',\n",
       " 'than',\n",
       " 'too',\n",
       " 'very',\n",
       " 's',\n",
       " 't',\n",
       " 'can',\n",
       " 'will',\n",
       " 'just',\n",
       " 'don',\n",
       " \"don't\",\n",
       " 'should',\n",
       " \"should've\",\n",
       " 'now',\n",
       " 'd',\n",
       " 'll',\n",
       " 'm',\n",
       " 'o',\n",
       " 're',\n",
       " 've',\n",
       " 'y',\n",
       " 'ain',\n",
       " 'aren',\n",
       " \"aren't\",\n",
       " 'couldn',\n",
       " \"couldn't\",\n",
       " 'didn',\n",
       " \"didn't\",\n",
       " 'doesn',\n",
       " \"doesn't\",\n",
       " 'hadn',\n",
       " \"hadn't\",\n",
       " 'hasn',\n",
       " \"hasn't\",\n",
       " 'haven',\n",
       " \"haven't\",\n",
       " 'isn',\n",
       " \"isn't\",\n",
       " 'ma',\n",
       " 'mightn',\n",
       " \"mightn't\",\n",
       " 'mustn',\n",
       " \"mustn't\",\n",
       " 'needn',\n",
       " \"needn't\",\n",
       " 'shan',\n",
       " \"shan't\",\n",
       " 'shouldn',\n",
       " \"shouldn't\",\n",
       " 'wasn',\n",
       " \"wasn't\",\n",
       " 'weren',\n",
       " \"weren't\",\n",
       " 'won',\n",
       " \"won't\",\n",
       " 'wouldn',\n",
       " \"wouldn't\"]"
      ]
     },
     "execution_count": 26,
     "metadata": {},
     "output_type": "execute_result"
    }
   ],
   "source": [
    "# Text Cleaning and pre processing \n",
    "# Stop word removal\n",
    "from nltk.corpus import stopwords\n",
    "stoplist = stopwords.words('english')  \n",
    "\n",
    "stoplist"
   ]
  },
  {
   "cell_type": "code",
   "execution_count": 27,
   "metadata": {},
   "outputs": [
    {
     "data": {
      "text/plain": [
       "'Sport and athletics are provided by a number of clubs, notably the Touring Club Italiano, founded in 1894.'"
      ]
     },
     "execution_count": 27,
     "metadata": {},
     "output_type": "execute_result"
    }
   ],
   "source": [
    "document = documents[0]\n",
    "document"
   ]
  },
  {
   "cell_type": "code",
   "execution_count": 28,
   "metadata": {},
   "outputs": [
    {
     "data": {
      "text/plain": [
       "['sport',\n",
       " 'athletics',\n",
       " 'provided',\n",
       " 'number',\n",
       " 'clubs,',\n",
       " 'notably',\n",
       " 'touring',\n",
       " 'club',\n",
       " 'italiano,',\n",
       " 'founded',\n",
       " '1894.']"
      ]
     },
     "execution_count": 28,
     "metadata": {},
     "output_type": "execute_result"
    }
   ],
   "source": [
    "[word for word in document.lower().split() if word.lower() not in stoplist]"
   ]
  },
  {
   "cell_type": "code",
   "execution_count": 29,
   "metadata": {},
   "outputs": [
    {
     "data": {
      "text/plain": [
       "['Sport and athletics are provided by a number of clubs, notably the Touring Club Italiano, founded in 1894.',\n",
       " \"Volleyball is the sport of choice at Flannagan's and there are four volleyball courts with nightly games\",\n",
       " 'PH volleyball sport chief confident of national team’s medal chances in 2019 SEA Games',\n",
       " 'sport  volleyball coaching great Nes Pamilar passes away at 52',\n",
       " 'Expect major changes in PH men’s volleyball sport team for SEA Games',\n",
       " 'At cricket sport  he was equally good as a bat and as a wicket-keeper',\n",
       " 'Provision is made for cricket sport in a number of the parks',\n",
       " 'Kennington Oval is the ground of the Surrey County Cricket sport Club',\n",
       " 'Data Science is primarily used to make decisions and prediction by data analysis',\n",
       " 'Data Science uses predictive algorithm by exploring data analysis',\n",
       " 'Data Science is for data analysis',\n",
       " 'Data Science and Data mining',\n",
       " 'Data Science is the study of information extraction',\n",
       " 'Data Science is used mine large amount of data']"
      ]
     },
     "execution_count": 29,
     "metadata": {},
     "output_type": "execute_result"
    }
   ],
   "source": [
    "documents"
   ]
  },
  {
   "cell_type": "code",
   "execution_count": 30,
   "metadata": {
    "scrolled": true
   },
   "outputs": [
    {
     "data": {
      "text/plain": [
       "[['sport',\n",
       "  'athletics',\n",
       "  'provided',\n",
       "  'number',\n",
       "  'clubs,',\n",
       "  'notably',\n",
       "  'touring',\n",
       "  'club',\n",
       "  'italiano,',\n",
       "  'founded',\n",
       "  '1894.'],\n",
       " ['volleyball',\n",
       "  'sport',\n",
       "  'choice',\n",
       "  \"flannagan's\",\n",
       "  'four',\n",
       "  'volleyball',\n",
       "  'courts',\n",
       "  'nightly',\n",
       "  'games'],\n",
       " ['ph',\n",
       "  'volleyball',\n",
       "  'sport',\n",
       "  'chief',\n",
       "  'confident',\n",
       "  'national',\n",
       "  'team’s',\n",
       "  'medal',\n",
       "  'chances',\n",
       "  '2019',\n",
       "  'sea',\n",
       "  'games'],\n",
       " ['sport',\n",
       "  'volleyball',\n",
       "  'coaching',\n",
       "  'great',\n",
       "  'nes',\n",
       "  'pamilar',\n",
       "  'passes',\n",
       "  'away',\n",
       "  '52'],\n",
       " ['expect',\n",
       "  'major',\n",
       "  'changes',\n",
       "  'ph',\n",
       "  'men’s',\n",
       "  'volleyball',\n",
       "  'sport',\n",
       "  'team',\n",
       "  'sea',\n",
       "  'games'],\n",
       " ['cricket', 'sport', 'equally', 'good', 'bat', 'wicket-keeper'],\n",
       " ['provision', 'made', 'cricket', 'sport', 'number', 'parks'],\n",
       " ['kennington',\n",
       "  'oval',\n",
       "  'ground',\n",
       "  'surrey',\n",
       "  'county',\n",
       "  'cricket',\n",
       "  'sport',\n",
       "  'club'],\n",
       " ['data',\n",
       "  'science',\n",
       "  'primarily',\n",
       "  'used',\n",
       "  'make',\n",
       "  'decisions',\n",
       "  'prediction',\n",
       "  'data',\n",
       "  'analysis'],\n",
       " ['data',\n",
       "  'science',\n",
       "  'uses',\n",
       "  'predictive',\n",
       "  'algorithm',\n",
       "  'exploring',\n",
       "  'data',\n",
       "  'analysis'],\n",
       " ['data', 'science', 'data', 'analysis'],\n",
       " ['data', 'science', 'data', 'mining'],\n",
       " ['data', 'science', 'study', 'information', 'extraction'],\n",
       " ['data', 'science', 'used', 'mine', 'large', 'amount', 'data']]"
      ]
     },
     "execution_count": 30,
     "metadata": {},
     "output_type": "execute_result"
    }
   ],
   "source": [
    "# remove stop words\n",
    "texts = [[word for word in record.lower().split() if word not in stoplist]\n",
    "         for record in documents]\n",
    "\n",
    "texts"
   ]
  },
  {
   "cell_type": "code",
   "execution_count": 31,
   "metadata": {
    "scrolled": true
   },
   "outputs": [
    {
     "data": {
      "text/plain": [
       "[['sport',\n",
       "  'athletics',\n",
       "  'provided',\n",
       "  'number',\n",
       "  'clubs,',\n",
       "  'notably',\n",
       "  'touring',\n",
       "  'club',\n",
       "  'italiano,',\n",
       "  'founded'],\n",
       " ['volleyball',\n",
       "  'sport',\n",
       "  'choice',\n",
       "  \"flannagan's\",\n",
       "  'four',\n",
       "  'volleyball',\n",
       "  'courts',\n",
       "  'nightly',\n",
       "  'games'],\n",
       " ['volleyball',\n",
       "  'sport',\n",
       "  'chief',\n",
       "  'confident',\n",
       "  'national',\n",
       "  'team’s',\n",
       "  'medal',\n",
       "  'chances',\n",
       "  'sea',\n",
       "  'games'],\n",
       " ['sport',\n",
       "  'volleyball',\n",
       "  'coaching',\n",
       "  'great',\n",
       "  'nes',\n",
       "  'pamilar',\n",
       "  'passes',\n",
       "  'away'],\n",
       " ['expect',\n",
       "  'major',\n",
       "  'changes',\n",
       "  'men’s',\n",
       "  'volleyball',\n",
       "  'sport',\n",
       "  'team',\n",
       "  'sea',\n",
       "  'games'],\n",
       " ['cricket', 'sport', 'equally', 'good', 'bat', 'wicket-keeper'],\n",
       " ['provision', 'made', 'cricket', 'sport', 'number', 'parks'],\n",
       " ['kennington',\n",
       "  'oval',\n",
       "  'ground',\n",
       "  'surrey',\n",
       "  'county',\n",
       "  'cricket',\n",
       "  'sport',\n",
       "  'club'],\n",
       " ['data',\n",
       "  'science',\n",
       "  'primarily',\n",
       "  'used',\n",
       "  'make',\n",
       "  'decisions',\n",
       "  'prediction',\n",
       "  'data',\n",
       "  'analysis'],\n",
       " ['data',\n",
       "  'science',\n",
       "  'uses',\n",
       "  'predictive',\n",
       "  'algorithm',\n",
       "  'exploring',\n",
       "  'data',\n",
       "  'analysis'],\n",
       " ['data', 'science', 'data', 'analysis'],\n",
       " ['data', 'science', 'data', 'mining'],\n",
       " ['data', 'science', 'study', 'information', 'extraction'],\n",
       " ['data', 'science', 'used', 'mine', 'large', 'amount', 'data']]"
      ]
     },
     "execution_count": 31,
     "metadata": {},
     "output_type": "execute_result"
    }
   ],
   "source": [
    "# remove junk words using regex\n",
    "import re\n",
    "\n",
    "texts = [[word for word in document if re.match('[a-zA-Z\\-][a-zA-Z\\-]{2,}', word)]\n",
    "         for document in texts]\n",
    "\n",
    "texts"
   ]
  },
  {
   "cell_type": "code",
   "execution_count": 32,
   "metadata": {
    "scrolled": true
   },
   "outputs": [
    {
     "data": {
      "text/plain": [
       "['Sport and athletics are provided by a number of clubs, notably the Touring Club Italiano, founded in 1894.',\n",
       " \"Volleyball is the sport of choice at Flannagan's and there are four volleyball courts with nightly games\",\n",
       " 'PH volleyball sport chief confident of national team’s medal chances in 2019 SEA Games']"
      ]
     },
     "execution_count": 32,
     "metadata": {},
     "output_type": "execute_result"
    }
   ],
   "source": [
    "documents[0:3]"
   ]
  },
  {
   "cell_type": "markdown",
   "metadata": {},
   "source": [
    "####  SKlearn based BOW and LSI "
   ]
  },
  {
   "cell_type": "code",
   "execution_count": 33,
   "metadata": {},
   "outputs": [],
   "source": [
    "# Build the LSI Models ( 2 topics)\n",
    "\n",
    "# LSI transforms documents from either bag-of-words or TfIdf-weighted space into a latent space of a lower dimensionality."
   ]
  },
  {
   "cell_type": "code",
   "execution_count": 34,
   "metadata": {},
   "outputs": [],
   "source": [
    "# LSA (TruncatedSVD in sklearn) \n",
    "from sklearn.decomposition import TruncatedSVD\n",
    "from sklearn.feature_extraction.text import CountVectorizer"
   ]
  },
  {
   "cell_type": "code",
   "execution_count": 35,
   "metadata": {},
   "outputs": [],
   "source": [
    "# Build the LSI Models ( 2 topics)\n",
    "\n",
    "# Using Sklearn Vectorizer , Converting the document to a Bag-of-words counts\n",
    "\n",
    "vectorizer = CountVectorizer(min_df=2, max_df=.95, stop_words='english', lowercase=True, \n",
    "                             token_pattern='[a-zA-Z\\-][a-zA-Z\\-]{2,}')\n",
    "\n",
    "x_bow = vectorizer.fit_transform(documents)\n",
    " "
   ]
  },
  {
   "cell_type": "code",
   "execution_count": 36,
   "metadata": {},
   "outputs": [
    {
     "data": {
      "text/plain": [
       "['analysis',\n",
       " 'club',\n",
       " 'cricket',\n",
       " 'data',\n",
       " 'games',\n",
       " 'number',\n",
       " 'science',\n",
       " 'sea',\n",
       " 'sport',\n",
       " 'team',\n",
       " 'used',\n",
       " 'volleyball']"
      ]
     },
     "execution_count": 36,
     "metadata": {},
     "output_type": "execute_result"
    }
   ],
   "source": [
    "vectorizer.get_feature_names()"
   ]
  },
  {
   "cell_type": "code",
   "execution_count": 37,
   "metadata": {},
   "outputs": [
    {
     "name": "stdout",
     "output_type": "stream",
     "text": [
      "(14, 12)\n"
     ]
    },
    {
     "data": {
      "text/html": [
       "<div>\n",
       "<style scoped>\n",
       "    .dataframe tbody tr th:only-of-type {\n",
       "        vertical-align: middle;\n",
       "    }\n",
       "\n",
       "    .dataframe tbody tr th {\n",
       "        vertical-align: top;\n",
       "    }\n",
       "\n",
       "    .dataframe thead th {\n",
       "        text-align: right;\n",
       "    }\n",
       "</style>\n",
       "<table border=\"1\" class=\"dataframe\">\n",
       "  <thead>\n",
       "    <tr style=\"text-align: right;\">\n",
       "      <th></th>\n",
       "      <th>analysis</th>\n",
       "      <th>club</th>\n",
       "      <th>cricket</th>\n",
       "      <th>data</th>\n",
       "      <th>games</th>\n",
       "      <th>number</th>\n",
       "      <th>science</th>\n",
       "      <th>sea</th>\n",
       "      <th>sport</th>\n",
       "      <th>team</th>\n",
       "      <th>used</th>\n",
       "      <th>volleyball</th>\n",
       "    </tr>\n",
       "  </thead>\n",
       "  <tbody>\n",
       "    <tr>\n",
       "      <th>0</th>\n",
       "      <td>0</td>\n",
       "      <td>1</td>\n",
       "      <td>0</td>\n",
       "      <td>0</td>\n",
       "      <td>0</td>\n",
       "      <td>1</td>\n",
       "      <td>0</td>\n",
       "      <td>0</td>\n",
       "      <td>1</td>\n",
       "      <td>0</td>\n",
       "      <td>0</td>\n",
       "      <td>0</td>\n",
       "    </tr>\n",
       "    <tr>\n",
       "      <th>1</th>\n",
       "      <td>0</td>\n",
       "      <td>0</td>\n",
       "      <td>0</td>\n",
       "      <td>0</td>\n",
       "      <td>1</td>\n",
       "      <td>0</td>\n",
       "      <td>0</td>\n",
       "      <td>0</td>\n",
       "      <td>1</td>\n",
       "      <td>0</td>\n",
       "      <td>0</td>\n",
       "      <td>2</td>\n",
       "    </tr>\n",
       "    <tr>\n",
       "      <th>2</th>\n",
       "      <td>0</td>\n",
       "      <td>0</td>\n",
       "      <td>0</td>\n",
       "      <td>0</td>\n",
       "      <td>1</td>\n",
       "      <td>0</td>\n",
       "      <td>0</td>\n",
       "      <td>1</td>\n",
       "      <td>1</td>\n",
       "      <td>1</td>\n",
       "      <td>0</td>\n",
       "      <td>1</td>\n",
       "    </tr>\n",
       "    <tr>\n",
       "      <th>3</th>\n",
       "      <td>0</td>\n",
       "      <td>0</td>\n",
       "      <td>0</td>\n",
       "      <td>0</td>\n",
       "      <td>0</td>\n",
       "      <td>0</td>\n",
       "      <td>0</td>\n",
       "      <td>0</td>\n",
       "      <td>1</td>\n",
       "      <td>0</td>\n",
       "      <td>0</td>\n",
       "      <td>1</td>\n",
       "    </tr>\n",
       "    <tr>\n",
       "      <th>4</th>\n",
       "      <td>0</td>\n",
       "      <td>0</td>\n",
       "      <td>0</td>\n",
       "      <td>0</td>\n",
       "      <td>1</td>\n",
       "      <td>0</td>\n",
       "      <td>0</td>\n",
       "      <td>1</td>\n",
       "      <td>1</td>\n",
       "      <td>1</td>\n",
       "      <td>0</td>\n",
       "      <td>1</td>\n",
       "    </tr>\n",
       "    <tr>\n",
       "      <th>5</th>\n",
       "      <td>0</td>\n",
       "      <td>0</td>\n",
       "      <td>1</td>\n",
       "      <td>0</td>\n",
       "      <td>0</td>\n",
       "      <td>0</td>\n",
       "      <td>0</td>\n",
       "      <td>0</td>\n",
       "      <td>1</td>\n",
       "      <td>0</td>\n",
       "      <td>0</td>\n",
       "      <td>0</td>\n",
       "    </tr>\n",
       "    <tr>\n",
       "      <th>6</th>\n",
       "      <td>0</td>\n",
       "      <td>0</td>\n",
       "      <td>1</td>\n",
       "      <td>0</td>\n",
       "      <td>0</td>\n",
       "      <td>1</td>\n",
       "      <td>0</td>\n",
       "      <td>0</td>\n",
       "      <td>1</td>\n",
       "      <td>0</td>\n",
       "      <td>0</td>\n",
       "      <td>0</td>\n",
       "    </tr>\n",
       "    <tr>\n",
       "      <th>7</th>\n",
       "      <td>0</td>\n",
       "      <td>1</td>\n",
       "      <td>1</td>\n",
       "      <td>0</td>\n",
       "      <td>0</td>\n",
       "      <td>0</td>\n",
       "      <td>0</td>\n",
       "      <td>0</td>\n",
       "      <td>1</td>\n",
       "      <td>0</td>\n",
       "      <td>0</td>\n",
       "      <td>0</td>\n",
       "    </tr>\n",
       "    <tr>\n",
       "      <th>8</th>\n",
       "      <td>1</td>\n",
       "      <td>0</td>\n",
       "      <td>0</td>\n",
       "      <td>2</td>\n",
       "      <td>0</td>\n",
       "      <td>0</td>\n",
       "      <td>1</td>\n",
       "      <td>0</td>\n",
       "      <td>0</td>\n",
       "      <td>0</td>\n",
       "      <td>1</td>\n",
       "      <td>0</td>\n",
       "    </tr>\n",
       "    <tr>\n",
       "      <th>9</th>\n",
       "      <td>1</td>\n",
       "      <td>0</td>\n",
       "      <td>0</td>\n",
       "      <td>2</td>\n",
       "      <td>0</td>\n",
       "      <td>0</td>\n",
       "      <td>1</td>\n",
       "      <td>0</td>\n",
       "      <td>0</td>\n",
       "      <td>0</td>\n",
       "      <td>0</td>\n",
       "      <td>0</td>\n",
       "    </tr>\n",
       "    <tr>\n",
       "      <th>10</th>\n",
       "      <td>1</td>\n",
       "      <td>0</td>\n",
       "      <td>0</td>\n",
       "      <td>2</td>\n",
       "      <td>0</td>\n",
       "      <td>0</td>\n",
       "      <td>1</td>\n",
       "      <td>0</td>\n",
       "      <td>0</td>\n",
       "      <td>0</td>\n",
       "      <td>0</td>\n",
       "      <td>0</td>\n",
       "    </tr>\n",
       "    <tr>\n",
       "      <th>11</th>\n",
       "      <td>0</td>\n",
       "      <td>0</td>\n",
       "      <td>0</td>\n",
       "      <td>2</td>\n",
       "      <td>0</td>\n",
       "      <td>0</td>\n",
       "      <td>1</td>\n",
       "      <td>0</td>\n",
       "      <td>0</td>\n",
       "      <td>0</td>\n",
       "      <td>0</td>\n",
       "      <td>0</td>\n",
       "    </tr>\n",
       "    <tr>\n",
       "      <th>12</th>\n",
       "      <td>0</td>\n",
       "      <td>0</td>\n",
       "      <td>0</td>\n",
       "      <td>1</td>\n",
       "      <td>0</td>\n",
       "      <td>0</td>\n",
       "      <td>1</td>\n",
       "      <td>0</td>\n",
       "      <td>0</td>\n",
       "      <td>0</td>\n",
       "      <td>0</td>\n",
       "      <td>0</td>\n",
       "    </tr>\n",
       "    <tr>\n",
       "      <th>13</th>\n",
       "      <td>0</td>\n",
       "      <td>0</td>\n",
       "      <td>0</td>\n",
       "      <td>2</td>\n",
       "      <td>0</td>\n",
       "      <td>0</td>\n",
       "      <td>1</td>\n",
       "      <td>0</td>\n",
       "      <td>0</td>\n",
       "      <td>0</td>\n",
       "      <td>1</td>\n",
       "      <td>0</td>\n",
       "    </tr>\n",
       "  </tbody>\n",
       "</table>\n",
       "</div>"
      ],
      "text/plain": [
       "    analysis  club  cricket  data  games  number  science  sea  sport  team  \\\n",
       "0          0     1        0     0      0       1        0    0      1     0   \n",
       "1          0     0        0     0      1       0        0    0      1     0   \n",
       "2          0     0        0     0      1       0        0    1      1     1   \n",
       "3          0     0        0     0      0       0        0    0      1     0   \n",
       "4          0     0        0     0      1       0        0    1      1     1   \n",
       "5          0     0        1     0      0       0        0    0      1     0   \n",
       "6          0     0        1     0      0       1        0    0      1     0   \n",
       "7          0     1        1     0      0       0        0    0      1     0   \n",
       "8          1     0        0     2      0       0        1    0      0     0   \n",
       "9          1     0        0     2      0       0        1    0      0     0   \n",
       "10         1     0        0     2      0       0        1    0      0     0   \n",
       "11         0     0        0     2      0       0        1    0      0     0   \n",
       "12         0     0        0     1      0       0        1    0      0     0   \n",
       "13         0     0        0     2      0       0        1    0      0     0   \n",
       "\n",
       "    used  volleyball  \n",
       "0      0           0  \n",
       "1      0           2  \n",
       "2      0           1  \n",
       "3      0           1  \n",
       "4      0           1  \n",
       "5      0           0  \n",
       "6      0           0  \n",
       "7      0           0  \n",
       "8      1           0  \n",
       "9      0           0  \n",
       "10     0           0  \n",
       "11     0           0  \n",
       "12     0           0  \n",
       "13     1           0  "
      ]
     },
     "execution_count": 37,
     "metadata": {},
     "output_type": "execute_result"
    }
   ],
   "source": [
    "bow_tf_df = pd.DataFrame(x_bow.toarray(), columns=vectorizer.get_feature_names())\n",
    "print(bow_tf_df.shape)\n",
    "bow_tf_df"
   ]
  },
  {
   "cell_type": "code",
   "execution_count": 38,
   "metadata": {},
   "outputs": [
    {
     "name": "stdout",
     "output_type": "stream",
     "text": [
      "(14, 2)\n"
     ]
    }
   ],
   "source": [
    "# LSI Model building ( Two Topics )\n",
    "\n",
    "from sklearn.decomposition import TruncatedSVD\n",
    "\n",
    "\n",
    "lsi_model = TruncatedSVD(n_components=2)\n",
    "\n",
    "lsi_transf = lsi_model.fit_transform(x_bow)\n",
    "\n",
    "print(lsi_transf.shape)"
   ]
  },
  {
   "cell_type": "code",
   "execution_count": 39,
   "metadata": {},
   "outputs": [
    {
     "data": {
      "text/plain": [
       "array([[ 2.49252385e-01,  3.25955481e-16, -3.31390456e-18,\n",
       "         8.44539058e-01,  2.36048372e-17,  1.05037934e-16,\n",
       "         4.44232827e-01,  4.76459147e-18,  1.55119378e-16,\n",
       "         4.76459147e-18,  1.65179368e-01,  3.40191298e-17],\n",
       "       [ 1.63193583e-16,  1.01108804e-01,  1.50031775e-01,\n",
       "        -2.40993612e-16,  3.63269054e-01,  1.01108804e-01,\n",
       "         5.62435072e-17,  2.39066055e-01,  6.32436849e-01,\n",
       "         2.39066055e-01, -1.52602925e-18,  5.57493099e-01]])"
      ]
     },
     "execution_count": 39,
     "metadata": {},
     "output_type": "execute_result"
    }
   ],
   "source": [
    "lsi_model.components_"
   ]
  },
  {
   "cell_type": "code",
   "execution_count": null,
   "metadata": {},
   "outputs": [],
   "source": [
    "# These numbers are shwoing as how important the term is in a topic/concept (semantic similarity)\n",
    "# For the corpus above we used only 2 latent dimensions"
   ]
  },
  {
   "cell_type": "code",
   "execution_count": 40,
   "metadata": {},
   "outputs": [
    {
     "name": "stdout",
     "output_type": "stream",
     "text": [
      "LSI Model:\n",
      "Topic 0:\n",
      "[('data', 0.8445390576666888), ('science', 0.4442328274346926), ('analysis', 0.24925238525888843), ('used', 0.16517936780238474), ('club', 3.2595548139953776e-16)]\n",
      "Topic 1:\n",
      "[('sport', 0.6324368489183315), ('volleyball', 0.5574930991220663), ('games', 0.36326905392527964), ('team', 0.23906605463111608), ('sea', 0.23906605463111608)]\n"
     ]
    }
   ],
   "source": [
    "### Topics_print_function \n",
    "def print_topics(model, vectorizer, top_n=5):\n",
    "    for idx, topic in enumerate(model.components_):\n",
    "        print(\"Topic %d:\" % (idx))\n",
    "        print([(vectorizer.get_feature_names()[i], topic[i])\n",
    "                        for i in topic.argsort()[:-top_n - 1:-1]])\n",
    "        \n",
    "print(\"LSI Model:\")\n",
    "print_topics(lsi_model, vectorizer)"
   ]
  },
  {
   "cell_type": "code",
   "execution_count": null,
   "metadata": {},
   "outputs": [],
   "source": [
    "# First-topic :  words “data”, “science” and “analysis” are all related words , contribute in the direction of first topic.\n",
    "# Second-topic:  words \"sport\", 'volletball', 'games' , 'team\" contribute the most in the direction of second topic.\n",
    "\n",
    "# First-topic is more related to technologies Data-Sciecne\n",
    "# Second-topic is more related to Sports \n",
    "\n",
    "# These numbers are shwoing as how important the term is in a topic/concept (semantic similarity)"
   ]
  },
  {
   "cell_type": "markdown",
   "metadata": {},
   "source": [
    "##### LDA Model Building ( Latent Dirichlet Allocation, LDA)"
   ]
  },
  {
   "cell_type": "code",
   "execution_count": null,
   "metadata": {},
   "outputs": [],
   "source": [
    "# LDA is a probabilistic extension of LSA (also called multinomial PCA).\n",
    "# LDA’s topics can be interpreted # as probability distributions over words.\n",
    "# These distributions are, just like with LSA,inferred automatically from a training corpus.\n",
    "# Documents are in turn interpreted as a (soft) mixture of these topics."
   ]
  },
  {
   "cell_type": "code",
   "execution_count": 41,
   "metadata": {},
   "outputs": [],
   "source": [
    "# LDA (Latent Dirichlet Allocation )\n",
    "from sklearn.decomposition import LatentDirichletAllocation"
   ]
  },
  {
   "cell_type": "code",
   "execution_count": 42,
   "metadata": {},
   "outputs": [
    {
     "name": "stdout",
     "output_type": "stream",
     "text": [
      "(14, 2)\n"
     ]
    }
   ],
   "source": [
    "# LDA Model building ( Two Topics )\n",
    "lda_model = LatentDirichletAllocation(n_components=2)\n",
    "lda_transf = lda_model.fit_transform(x_bow)\n",
    "print(lda_transf.shape)"
   ]
  },
  {
   "cell_type": "code",
   "execution_count": 43,
   "metadata": {},
   "outputs": [
    {
     "name": "stdout",
     "output_type": "stream",
     "text": [
      "LDA Model:\n",
      "Topic 0:\n",
      "[('sport', 8.49176091106), ('volleyball', 5.493123501329442), ('games', 3.494681533719862), ('cricket', 3.4902906730588388), ('sea', 2.495098542861201)]\n",
      "Topic 1:\n",
      "[('data', 11.495178356628788), ('science', 6.494862532822708), ('analysis', 3.4959826389529676), ('used', 2.496138386429173), ('cricket', 0.5097093269411522)]\n"
     ]
    }
   ],
   "source": [
    "### Topics_print_function \n",
    "def print_topics(model, vectorizer, top_n=5):\n",
    "    for idx, topic in enumerate(model.components_):\n",
    "        print(\"Topic %d:\" % (idx))\n",
    "        print([(vectorizer.get_feature_names()[i], topic[i])\n",
    "                        for i in topic.argsort()[:-top_n - 1:-1]])\n",
    "        \n",
    "print(\"LDA Model:\")\n",
    "print_topics(lda_model, vectorizer)"
   ]
  },
  {
   "cell_type": "markdown",
   "metadata": {},
   "source": [
    "##### Transform new document into the LDA and LSI Topics"
   ]
  },
  {
   "cell_type": "code",
   "execution_count": 44,
   "metadata": {},
   "outputs": [],
   "source": [
    "new_doc = [\"Data Scientist is the hottest profession of 2019 according to job listing data\",\n",
    "           \"PH volleyball sport chief confident of national team’s medal chances in 2019 SEA Games\"]"
   ]
  },
  {
   "cell_type": "code",
   "execution_count": 45,
   "metadata": {},
   "outputs": [],
   "source": [
    "new_doc_bow = vectorizer.transform(new_doc)"
   ]
  },
  {
   "cell_type": "code",
   "execution_count": 46,
   "metadata": {},
   "outputs": [
    {
     "data": {
      "text/plain": [
       "array([[0.16718457, 0.83281543],\n",
       "       [0.91530086, 0.08469914]])"
      ]
     },
     "execution_count": 46,
     "metadata": {},
     "output_type": "execute_result"
    }
   ],
   "source": [
    "lda_model.transform(new_doc_bow) "
   ]
  },
  {
   "cell_type": "code",
   "execution_count": null,
   "metadata": {},
   "outputs": [],
   "source": [
    "# this result suggest the topic-1(Technology) has the strogest represenation in the first document.\n",
    "# topic-0 (Sports) has strong representation in the second document"
   ]
  }
 ],
 "metadata": {
  "kernelspec": {
   "display_name": "Python 3",
   "language": "python",
   "name": "python3"
  },
  "language_info": {
   "codemirror_mode": {
    "name": "ipython",
    "version": 3
   },
   "file_extension": ".py",
   "mimetype": "text/x-python",
   "name": "python",
   "nbconvert_exporter": "python",
   "pygments_lexer": "ipython3",
   "version": "3.7.3"
  }
 },
 "nbformat": 4,
 "nbformat_minor": 2
}
